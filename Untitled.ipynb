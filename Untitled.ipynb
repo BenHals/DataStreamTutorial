{
 "cells": [
  {
   "cell_type": "code",
   "execution_count": 6,
   "metadata": {},
   "outputs": [],
   "source": [
    "training_data = [\n",
    "    (\"Auckland is in the North Island of New Zealand\", \"Auckland\"),\n",
    "    (\"Auckland has a large population.\", \"Auckland\"),\n",
    "    (\"It is in the Auckland Region, governed by Auckland Council\", \"Auckland\"),\n",
    "    (\"Dunedin is in the South Island of New Zealand\", \"Dunedin\"),\n",
    "    (\"Dunedin has the sixth highest population in New Zealand\", \"Dunedin\"),\n",
    "    (\"It was the largest city in New Zealand until the formation of the Auckland Council\", \"Dunedin\")\n",
    "]\n",
    "stop_words = [\"is\", \"in\", \"the\", \"of\", \"has\", \"it\", \"by\", \"was\", 'a', 'until']"
   ]
  },
  {
   "cell_type": "code",
   "execution_count": 11,
   "metadata": {},
   "outputs": [
    {
     "name": "stdout",
     "output_type": "stream",
     "text": [
      "('Auckland North Island New Zealand', 'Auckland')\n",
      "('Auckland large population.', 'Auckland')\n",
      "('Auckland Region, governed Auckland Council', 'Auckland')\n",
      "('Dunedin South Island New Zealand', 'Dunedin')\n",
      "('Dunedin sixth highest population New Zealand', 'Dunedin')\n",
      "('largest city New Zealand formation Auckland Council', 'Dunedin')\n"
     ]
    }
   ],
   "source": [
    "filtered_training_data = []\n",
    "for s, c in training_data:\n",
    "    new_s = []\n",
    "    for w in s.split():\n",
    "        if w.lower() in stop_words:\n",
    "            continue\n",
    "        new_s.append(w)\n",
    "    o = (' '.join(new_s), c)\n",
    "    print(o)\n",
    "    filtered_training_data.append(o)"
   ]
  },
  {
   "cell_type": "code",
   "execution_count": 14,
   "metadata": {},
   "outputs": [
    {
     "data": {
      "text/plain": [
       "'region,, governed, highest, auckland, sixth, population, city, dunedin, formation, large, population., largest, south, council, island, north, zealand, new'"
      ]
     },
     "execution_count": 14,
     "metadata": {},
     "output_type": "execute_result"
    }
   ],
   "source": [
    "vocab = set()\n",
    "for s, c in filtered_training_data:\n",
    "    for w in s.split(' '):\n",
    "        vocab.add(w.lower())\n",
    "', '.join(vocab)"
   ]
  },
  {
   "cell_type": "code",
   "execution_count": 7,
   "metadata": {},
   "outputs": [],
   "source": [
    "\n",
    "total_words = {\"Auckland\": [],\n",
    "              \"Dunedin\": []}\n",
    "word_counts = {\"Auckland\": {},\n",
    "              \"Dunedin\": {}}\n",
    "for s, c in training_data:\n",
    "    for w in s.split(\" \"):\n",
    "        w = w.lower()\n",
    "        if w in stop_words:\n",
    "            continue\n",
    "        total_words[c].append(w)\n",
    "        word_counts[c][w] = word_counts[c].get(w, 0) + 1\n",
    "    "
   ]
  },
  {
   "cell_type": "code",
   "execution_count": 8,
   "metadata": {},
   "outputs": [
    {
     "data": {
      "text/plain": [
       "13"
      ]
     },
     "execution_count": 8,
     "metadata": {},
     "output_type": "execute_result"
    }
   ],
   "source": [
    "n_auckland = len(total_words[\"Auckland\"])\n",
    "n_auckland"
   ]
  },
  {
   "cell_type": "code",
   "execution_count": 9,
   "metadata": {},
   "outputs": [
    {
     "data": {
      "text/plain": [
       "18"
      ]
     },
     "execution_count": 9,
     "metadata": {},
     "output_type": "execute_result"
    }
   ],
   "source": [
    "n_dunedin = len(total_words[\"Dunedin\"])\n",
    "n_dunedin"
   ]
  },
  {
   "cell_type": "code",
   "execution_count": 10,
   "metadata": {},
   "outputs": [
    {
     "data": {
      "text/plain": [
       "{'Auckland': {'auckland': 4,\n",
       "  'north': 1,\n",
       "  'island': 1,\n",
       "  'new': 1,\n",
       "  'zealand': 1,\n",
       "  'large': 1,\n",
       "  'population.': 1,\n",
       "  'region,': 1,\n",
       "  'governed': 1,\n",
       "  'council': 1},\n",
       " 'Dunedin': {'dunedin': 2,\n",
       "  'south': 1,\n",
       "  'island': 1,\n",
       "  'new': 3,\n",
       "  'zealand': 3,\n",
       "  'sixth': 1,\n",
       "  'highest': 1,\n",
       "  'population': 1,\n",
       "  'largest': 1,\n",
       "  'city': 1,\n",
       "  'formation': 1,\n",
       "  'auckland': 1,\n",
       "  'council': 1}}"
      ]
     },
     "execution_count": 10,
     "metadata": {},
     "output_type": "execute_result"
    }
   ],
   "source": [
    "word_counts"
   ]
  },
  {
   "cell_type": "code",
   "execution_count": 24,
   "metadata": {},
   "outputs": [
    {
     "name": "stdout",
     "output_type": "stream",
     "text": [
      "Floating point numbers may have inaccuracies\n",
      "1 = 0.9999999999999999\n",
      "Multiplication amplifies inaccuracies\n",
      "0.1^100 = 1.0000000000000056e-100 - Where did the 56 come from?\n",
      "When numbers get too small, we may underflow\n",
      "0.1^400 = 0.0 - Our result got zeroed out!\n"
     ]
    }
   ],
   "source": [
    "import math\n",
    "print(\"Floating point numbers may have inaccuracies\")\n",
    "print(f\"1 = {sum([0.1]*10)}\")\n",
    "print(\"Multiplication amplifies inaccuracies\")\n",
    "print(f\"0.1^100 = {0.1**100} - Where did the 56 come from?\")\n",
    "print(\"When numbers get too small, we may underflow\")\n",
    "print(f\"0.1^400 = {0.1**400} - Our result got zeroed out!\")"
   ]
  },
  {
   "cell_type": "code",
   "execution_count": null,
   "metadata": {},
   "outputs": [],
   "source": []
  }
 ],
 "metadata": {
  "kernelspec": {
   "display_name": "Python 3",
   "language": "python",
   "name": "python3"
  },
  "language_info": {
   "codemirror_mode": {
    "name": "ipython",
    "version": 3
   },
   "file_extension": ".py",
   "mimetype": "text/x-python",
   "name": "python",
   "nbconvert_exporter": "python",
   "pygments_lexer": "ipython3",
   "version": "3.8.5"
  }
 },
 "nbformat": 4,
 "nbformat_minor": 5
}
