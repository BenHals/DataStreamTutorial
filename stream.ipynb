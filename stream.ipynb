{
 "cells": [
  {
   "cell_type": "markdown",
   "metadata": {
    "slideshow": {
     "slide_type": "slide"
    }
   },
   "source": [
    "# Data Streams in Python"
   ]
  },
  {
   "cell_type": "markdown",
   "metadata": {
    "slideshow": {
     "slide_type": "slide"
    }
   },
   "source": [
    "### Not in SKLearn!\n",
    "\n",
    "Most of the large machine learning packages focus on *static* data, rather than *streaming* data\n",
    "\n",
    "For example, SKLearn models do not learn from one observation at a time, and evaluation is built around a static test set which can be shuffled"
   ]
  },
  {
   "cell_type": "code",
   "execution_count": 1,
   "metadata": {
    "slideshow": {
     "slide_type": "skip"
    }
   },
   "outputs": [],
   "source": [
    "def hide_code_in_slideshow():   \n",
    "    from IPython import display\n",
    "    import binascii\n",
    "    import os\n",
    "    uid = binascii.hexlify(os.urandom(8)).decode()    \n",
    "    html = \"\"\"<div id=\"%s\"></div>\n",
    "    <script type=\"text/javascript\">\n",
    "        $(function(){\n",
    "            var p = $(\"#%s\");\n",
    "            if (p.length==0) return;\n",
    "            while (!p.hasClass(\"cell\")) {\n",
    "                p=p.parent();\n",
    "                if (p.prop(\"tagName\") ==\"body\") return;\n",
    "            }\n",
    "            var cell = p;\n",
    "            cell.find(\".input\").addClass(\"hide-in-slideshow\")\n",
    "        });\n",
    "    </script>\"\"\" % (uid, uid)\n",
    "    display.display_html(html, raw=True)\n",
    "    "
   ]
  },
  {
   "cell_type": "markdown",
   "metadata": {
    "slideshow": {
     "slide_type": "slide"
    }
   },
   "source": [
    "### River - Package for Streaming data\n",
    "\n",
    "![](river.png)"
   ]
  },
  {
   "cell_type": "markdown",
   "metadata": {
    "slideshow": {
     "slide_type": "slide"
    }
   },
   "source": [
    "### River - Lets start with an included data stream"
   ]
  },
  {
   "cell_type": "code",
   "execution_count": 3,
   "metadata": {
    "slideshow": {
     "slide_type": "fragment"
    }
   },
   "outputs": [
    {
     "data": {
      "text/plain": [
       "Synthetic data generator\n",
       "\n",
       "    Name  Agrawal              \n",
       "    Task  Binary classification\n",
       " Samples  ∞                    \n",
       "Features  9                    \n",
       " Outputs  1                    \n",
       " Classes  2                    \n",
       "  Sparse  False                \n",
       "\n",
       "Configuration\n",
       "-------------\n",
       "classification_function  0    \n",
       "                   seed  None \n",
       "        balance_classes  False\n",
       "           perturbation  0.0  "
      ]
     },
     "execution_count": 3,
     "metadata": {},
     "output_type": "execute_result"
    }
   ],
   "source": [
    "from river import synth\n",
    "stream = synth.Agrawal()\n",
    "\n",
    "stream"
   ]
  },
  {
   "cell_type": "markdown",
   "metadata": {
    "slideshow": {
     "slide_type": "slide"
    }
   },
   "source": [
    "### How would we train a model?"
   ]
  },
  {
   "cell_type": "markdown",
   "metadata": {
    "cell_style": "split",
    "slideshow": {
     "slide_type": "fragment"
    }
   },
   "source": [
    "#### In SKLearn - 1) Test-Train split 2) Fit a static model to the train set"
   ]
  },
  {
   "cell_type": "markdown",
   "metadata": {
    "cell_style": "split",
    "slideshow": {
     "slide_type": "-"
    }
   },
   "source": [
    "#### In River - Loop over the stream, training and predicting each observation individually"
   ]
  },
  {
   "cell_type": "code",
   "execution_count": 3,
   "metadata": {
    "cell_style": "split",
    "slideshow": {
     "slide_type": "-"
    }
   },
   "outputs": [
    {
     "name": "stdout",
     "output_type": "stream",
     "text": [
      "1.0\n"
     ]
    }
   ],
   "source": [
    "from sklearn.model_selection import train_test_split\n",
    "from sklearn import tree\n",
    "from sklearn.metrics import accuracy_score\n",
    "\n",
    "stream = synth.Agrawal(seed=1)\n",
    "# Convert from river stream to X, y \n",
    "X, y = list(zip(*stream.take(1000)))\n",
    "X = [list(x.values()) for x in X]\n",
    "\n",
    "# SKLearn training\n",
    "X_train, X_test, y_train, y_test = train_test_split(X, y)\n",
    "clf = tree.DecisionTreeClassifier()\n",
    "clf = clf.fit(X_train, y_train)\n",
    "y_preds = clf.predict(X_test)\n",
    "print(accuracy_score(y_test, y_preds))\n",
    "\n"
   ]
  },
  {
   "cell_type": "code",
   "execution_count": 4,
   "metadata": {
    "cell_style": "split",
    "slideshow": {
     "slide_type": "-"
    }
   },
   "outputs": [
    {
     "name": "stdout",
     "output_type": "stream",
     "text": [
      "Accuracy: 84.60%\n"
     ]
    }
   ],
   "source": [
    "from river import evaluate\n",
    "from river import metrics\n",
    "from river import tree\n",
    "\n",
    "stream = synth.Agrawal(seed=1)\n",
    "clf = tree.HoeffdingTreeClassifier()\n",
    "metric = metrics.Accuracy()\n",
    "\n",
    "for X, y in stream.take(1000):\n",
    "    p = clf.predict_one(X)\n",
    "    metric.update(y, p)\n",
    "    \n",
    "    clf.learn_one(X, y)\n",
    "\n",
    "print(metric)"
   ]
  },
  {
   "cell_type": "markdown",
   "metadata": {
    "slideshow": {
     "slide_type": "fragment"
    }
   },
   "source": [
    "Why does accuracy seem lower? Is is *really* lower?"
   ]
  },
  {
   "cell_type": "markdown",
   "metadata": {
    "slideshow": {
     "slide_type": "slide"
    }
   },
   "source": [
    "### Lets look at accuracy over time"
   ]
  },
  {
   "cell_type": "code",
   "execution_count": 5,
   "metadata": {
    "cell_style": "split",
    "slideshow": {
     "slide_type": "fragment"
    }
   },
   "outputs": [],
   "source": [
    "def get_performance_over_time(i):\n",
    "    # Create the stream, classifier and metric\n",
    "    stream = iter(synth.Agrawal(seed=1).take(i))\n",
    "    clf = tree.HoeffdingTreeClassifier()\n",
    "    metric = metrics.Accuracy()\n",
    "    \n",
    "    # For each observation, test the model\n",
    "    # train the model, and update our metric\n",
    "    accuracy = []\n",
    "    for j in range(i):\n",
    "        X, y = next(stream)\n",
    "        p = clf.predict_one(X)\n",
    "        metric.update(y, p)\n",
    "        clf.learn_one(X, y)\n",
    "        accuracy.append(metric.get())\n",
    "    return accuracy"
   ]
  },
  {
   "cell_type": "code",
   "execution_count": 9,
   "metadata": {
    "cell_style": "split",
    "scrolled": false,
    "slideshow": {
     "slide_type": "-"
    }
   },
   "outputs": [
    {
     "data": {
      "text/html": [
       "<div id=\"68917f7cb9168a34\"></div>\n",
       "    <script type=\"text/javascript\">\n",
       "        $(function(){\n",
       "            var p = $(\"#68917f7cb9168a34\");\n",
       "            if (p.length==0) return;\n",
       "            while (!p.hasClass(\"cell\")) {\n",
       "                p=p.parent();\n",
       "                if (p.prop(\"tagName\") ==\"body\") return;\n",
       "            }\n",
       "            var cell = p;\n",
       "            cell.find(\".input\").addClass(\"hide-in-slideshow\")\n",
       "        });\n",
       "    </script>"
      ]
     },
     "metadata": {},
     "output_type": "display_data"
    },
    {
     "data": {
      "application/vnd.jupyter.widget-view+json": {
       "model_id": "c03f3c2be08b4bf5990ae1cddafc6c16",
       "version_major": 2,
       "version_minor": 0
      },
      "text/plain": [
       "Canvas(toolbar=Toolbar(toolitems=[('Home', 'Reset original view', 'home', 'home'), ('Back', 'Back to previous …"
      ]
     },
     "metadata": {},
     "output_type": "display_data"
    },
    {
     "data": {
      "application/vnd.jupyter.widget-view+json": {
       "model_id": "b4d751a57169442498ec4dd67bc9b6af",
       "version_major": 2,
       "version_minor": 0
      },
      "text/plain": [
       "interactive(children=(IntSlider(value=10, description='i', layout=Layout(width='100%'), max=9999, min=1), Outp…"
      ]
     },
     "metadata": {},
     "output_type": "display_data"
    },
    {
     "data": {
      "text/plain": [
       "<function __main__.plot_acc_up_to(i)>"
      ]
     },
     "execution_count": 9,
     "metadata": {},
     "output_type": "execute_result"
    }
   ],
   "source": [
    "%matplotlib widget\n",
    "import matplotlib.pyplot as plt\n",
    "\n",
    "from ipywidgets import interact, IntSlider, Layout\n",
    "import ipywidgets as widgets\n",
    "from IPython.display import display\n",
    "\n",
    "hide_code_in_slideshow()\n",
    "\n",
    "# Cache stream results\n",
    "acc_cache = get_performance_over_time(10000)\n",
    "\n",
    "# Create updatable plot\n",
    "plt.ion()\n",
    "fig = plt.figure()\n",
    "fig.canvas.toolbar_visible = False\n",
    "fig.canvas.header_visible = False \n",
    "fig.canvas.footer_visible = False\n",
    "line, = plt.plot([], [])\n",
    "plt.show()\n",
    "\n",
    "# Plot interactively\n",
    "def plot_acc_up_to(i):\n",
    "    y = acc_cache[:i]\n",
    "    x = range(i)\n",
    "    \n",
    "    line.set_data(x, y)\n",
    "    fig.gca().relim()\n",
    "    fig.gca().autoscale_view()\n",
    "    fig.canvas.draw_idle()\n",
    "\n",
    "interact(plot_acc_up_to, i=IntSlider(min=1, max=9999, value=10, layout=widgets.Layout(width='100%')))"
   ]
  },
  {
   "cell_type": "markdown",
   "metadata": {
    "slideshow": {
     "slide_type": "-"
    }
   },
   "source": [
    "Overall accuracy always includes the performance at the start, when our model was barely trained."
   ]
  },
  {
   "cell_type": "markdown",
   "metadata": {
    "slideshow": {
     "slide_type": "slide"
    }
   },
   "source": [
    "### Sliding window accuracy - only captures *recent* performance"
   ]
  },
  {
   "cell_type": "code",
   "execution_count": 10,
   "metadata": {
    "cell_style": "split",
    "slideshow": {
     "slide_type": "fragment"
    }
   },
   "outputs": [],
   "source": [
    "def get_recent_performance_over_time(i):\n",
    "    # Create the stream, classifier and metric\n",
    "    stream = iter(synth.Agrawal(seed=1).take(i))\n",
    "    clf = tree.HoeffdingTreeClassifier()\n",
    "    metric = metrics.Rolling(metrics.Accuracy(), window_size=500)\n",
    "    \n",
    "    # For each observation, test the model\n",
    "    # train the model, and update our metric\n",
    "    accuracy = []\n",
    "    for j in range(i):\n",
    "        X, y = next(stream)\n",
    "        p = clf.predict_one(X)\n",
    "        metric.update(y, p)\n",
    "        clf.learn_one(X, y)\n",
    "        accuracy.append(metric.get())\n",
    "    return accuracy"
   ]
  },
  {
   "cell_type": "code",
   "execution_count": 11,
   "metadata": {
    "cell_style": "split",
    "scrolled": true,
    "slideshow": {
     "slide_type": "-"
    }
   },
   "outputs": [
    {
     "data": {
      "text/html": [
       "<div id=\"f7ae164d85257b71\"></div>\n",
       "    <script type=\"text/javascript\">\n",
       "        $(function(){\n",
       "            var p = $(\"#f7ae164d85257b71\");\n",
       "            if (p.length==0) return;\n",
       "            while (!p.hasClass(\"cell\")) {\n",
       "                p=p.parent();\n",
       "                if (p.prop(\"tagName\") ==\"body\") return;\n",
       "            }\n",
       "            var cell = p;\n",
       "            cell.find(\".input\").addClass(\"hide-in-slideshow\")\n",
       "        });\n",
       "    </script>"
      ]
     },
     "metadata": {},
     "output_type": "display_data"
    },
    {
     "data": {
      "application/vnd.jupyter.widget-view+json": {
       "model_id": "12cb1edf7ce74732b1b550a960f8c041",
       "version_major": 2,
       "version_minor": 0
      },
      "text/plain": [
       "Canvas(footer_visible=False, header_visible=False, toolbar=Toolbar(toolitems=[('Home', 'Reset original view', …"
      ]
     },
     "metadata": {},
     "output_type": "display_data"
    },
    {
     "data": {
      "application/vnd.jupyter.widget-view+json": {
       "model_id": "114286056f82434b9407f79f07d05616",
       "version_major": 2,
       "version_minor": 0
      },
      "text/plain": [
       "interactive(children=(IntSlider(value=10, description='i', layout=Layout(width='100%'), max=9999, min=1), Outp…"
      ]
     },
     "metadata": {},
     "output_type": "display_data"
    },
    {
     "data": {
      "text/plain": [
       "<function __main__.plot_recent_acc_up_to(i)>"
      ]
     },
     "execution_count": 11,
     "metadata": {},
     "output_type": "execute_result"
    }
   ],
   "source": [
    "hide_code_in_slideshow()\n",
    "\n",
    "# Cache stream results\n",
    "recent_acc_cache = get_recent_performance_over_time(10000)\n",
    "\n",
    "# Create updatable plot\n",
    "plt.ioff()\n",
    "fig = plt.figure()\n",
    "fig.canvas.toolbar_visible = False\n",
    "fig.canvas.header_visible = False \n",
    "fig.canvas.footer_visible = False\n",
    "line, = plt.plot([], [])\n",
    "plt.show()\n",
    "\n",
    "# Plot interactively\n",
    "def plot_recent_acc_up_to(i):\n",
    "    y = recent_acc_cache[:i]\n",
    "    x = range(i)\n",
    "    \n",
    "    line.set_data(x, y)\n",
    "    fig.gca().relim()\n",
    "    fig.gca().autoscale_view()\n",
    "    fig.canvas.draw_idle()\n",
    "\n",
    "interact(plot_recent_acc_up_to, i=IntSlider(min=1, max=9999, value=10, layout=widgets.Layout(width='100%')))\n"
   ]
  },
  {
   "cell_type": "markdown",
   "metadata": {
    "slideshow": {
     "slide_type": "slide"
    }
   },
   "source": [
    "### Concept Drift - A change in the distribution of data"
   ]
  },
  {
   "cell_type": "code",
   "execution_count": 12,
   "metadata": {
    "cell_style": "split",
    "slideshow": {
     "slide_type": "fragment"
    }
   },
   "outputs": [],
   "source": [
    "from itertools import chain\n",
    "def get_drift_performance_over_time(i):\n",
    "    # Combine two streams with different concepts\n",
    "    streamA = iter(synth.Agrawal(classification_function=0, seed=1).take(10000))\n",
    "    streamB = iter(synth.Agrawal(classification_function=3, seed=1).take(10000))\n",
    "    stream = chain(streamA, streamB)\n",
    "    \n",
    "    clf = tree.HoeffdingTreeClassifier()\n",
    "    metric = metrics.Rolling(metrics.Accuracy(), window_size=500)\n",
    "    \n",
    "    # For each observation, test the model\n",
    "    # train the model, and update our metric\n",
    "    accuracy = []\n",
    "    for j in range(i):\n",
    "        X, y = next(stream)\n",
    "        p = clf.predict_one(X)\n",
    "        metric.update(y, p)\n",
    "        clf.learn_one(X, y)\n",
    "        accuracy.append(metric.get())\n",
    "    return accuracy"
   ]
  },
  {
   "cell_type": "code",
   "execution_count": 13,
   "metadata": {
    "cell_style": "split",
    "scrolled": true,
    "slideshow": {
     "slide_type": "-"
    }
   },
   "outputs": [
    {
     "data": {
      "text/html": [
       "<div id=\"9cc83a713f029127\"></div>\n",
       "    <script type=\"text/javascript\">\n",
       "        $(function(){\n",
       "            var p = $(\"#9cc83a713f029127\");\n",
       "            if (p.length==0) return;\n",
       "            while (!p.hasClass(\"cell\")) {\n",
       "                p=p.parent();\n",
       "                if (p.prop(\"tagName\") ==\"body\") return;\n",
       "            }\n",
       "            var cell = p;\n",
       "            cell.find(\".input\").addClass(\"hide-in-slideshow\")\n",
       "        });\n",
       "    </script>"
      ]
     },
     "metadata": {},
     "output_type": "display_data"
    },
    {
     "data": {
      "application/vnd.jupyter.widget-view+json": {
       "model_id": "55b82aa45f874eac855bb10d49adfd39",
       "version_major": 2,
       "version_minor": 0
      },
      "text/plain": [
       "Canvas(footer_visible=False, header_visible=False, toolbar=Toolbar(toolitems=[('Home', 'Reset original view', …"
      ]
     },
     "metadata": {},
     "output_type": "display_data"
    },
    {
     "data": {
      "application/vnd.jupyter.widget-view+json": {
       "model_id": "f2d92c898c03435f99ff7a53aa809974",
       "version_major": 2,
       "version_minor": 0
      },
      "text/plain": [
       "interactive(children=(IntSlider(value=10, description='i', layout=Layout(width='100%'), max=19999, min=1), Out…"
      ]
     },
     "metadata": {},
     "output_type": "display_data"
    },
    {
     "data": {
      "text/plain": [
       "<function __main__.plot_drift_acc_up_to(i)>"
      ]
     },
     "execution_count": 13,
     "metadata": {},
     "output_type": "execute_result"
    }
   ],
   "source": [
    "hide_code_in_slideshow()\n",
    "\n",
    "# Cache stream results\n",
    "drift_acc_cache = get_drift_performance_over_time(20000)\n",
    "\n",
    "# Create updatable plot\n",
    "plt.ioff()\n",
    "fig = plt.figure()\n",
    "fig.canvas.toolbar_visible = False\n",
    "fig.canvas.header_visible = False \n",
    "fig.canvas.footer_visible = False\n",
    "line, = plt.plot([], [])\n",
    "plt.show()\n",
    "\n",
    "# Plot interactively\n",
    "def plot_drift_acc_up_to(i):\n",
    "    y = drift_acc_cache[:i]\n",
    "    x = range(i)\n",
    "    \n",
    "    line.set_data(x, y)\n",
    "    fig.gca().relim()\n",
    "    fig.gca().autoscale_view()\n",
    "    fig.canvas.draw_idle()\n",
    "\n",
    "interact(plot_drift_acc_up_to, i=IntSlider(min=1, max=19999, value=10, layout=widgets.Layout(width='100%')))\n"
   ]
  },
  {
   "cell_type": "markdown",
   "metadata": {
    "slideshow": {
     "slide_type": "slide"
    }
   },
   "source": [
    "### Lets try to detect the drift"
   ]
  },
  {
   "cell_type": "code",
   "execution_count": 14,
   "metadata": {
    "cell_style": "split",
    "slideshow": {
     "slide_type": "-"
    }
   },
   "outputs": [],
   "source": [
    "from itertools import chain\n",
    "from river.drift import ADWIN\n",
    "\n",
    "def get_driftdetect_accuracy_overtime(i):\n",
    "    streamA = iter(synth.Agrawal(classification_function=0, seed=1).take(10000))\n",
    "    streamB = iter(synth.Agrawal(classification_function=3, seed=1).take(10000))\n",
    "    stream = chain(streamA, streamB)\n",
    "    clf = tree.HoeffdingTreeClassifier()\n",
    "    metric = metrics.Rolling(metrics.Accuracy(), window_size=500)\n",
    "    drift_detector = ADWIN()\n",
    "    \n",
    "    accuracy = []\n",
    "    warn = []\n",
    "    drift = []\n",
    "    for j in range(i):\n",
    "        X, y = next(stream)\n",
    "        p = clf.predict_one(X)\n",
    "        metric.update(y, p)\n",
    "        clf.learn_one(X, y)\n",
    "        \n",
    "        is_correct = 1 if p==y else 0\n",
    "        in_drift, in_warning = drift_detector.update(is_correct)\n",
    "        if in_drift:\n",
    "            drift_detector.reset()\n",
    "        accuracy.append(metric.get())\n",
    "        warn.append(1 if in_warning else 0)\n",
    "        drift.append(1 if in_drift else 0)\n",
    "        \n",
    "    return accuracy, warn, drift"
   ]
  },
  {
   "cell_type": "code",
   "execution_count": 15,
   "metadata": {
    "cell_style": "split",
    "slideshow": {
     "slide_type": "fragment"
    }
   },
   "outputs": [
    {
     "data": {
      "text/html": [
       "<div id=\"8f747c3d0e098fd7\"></div>\n",
       "    <script type=\"text/javascript\">\n",
       "        $(function(){\n",
       "            var p = $(\"#8f747c3d0e098fd7\");\n",
       "            if (p.length==0) return;\n",
       "            while (!p.hasClass(\"cell\")) {\n",
       "                p=p.parent();\n",
       "                if (p.prop(\"tagName\") ==\"body\") return;\n",
       "            }\n",
       "            var cell = p;\n",
       "            cell.find(\".input\").addClass(\"hide-in-slideshow\")\n",
       "        });\n",
       "    </script>"
      ]
     },
     "metadata": {},
     "output_type": "display_data"
    },
    {
     "data": {
      "application/vnd.jupyter.widget-view+json": {
       "model_id": "a92feecaea4b40548332f9eda7b08032",
       "version_major": 2,
       "version_minor": 0
      },
      "text/plain": [
       "Canvas(footer_visible=False, header_visible=False, toolbar=Toolbar(toolitems=[('Home', 'Reset original view', …"
      ]
     },
     "metadata": {},
     "output_type": "display_data"
    },
    {
     "data": {
      "application/vnd.jupyter.widget-view+json": {
       "model_id": "e9ce43ae2f204a11b026f51d9dcbb11c",
       "version_major": 2,
       "version_minor": 0
      },
      "text/plain": [
       "interactive(children=(IntSlider(value=10, description='i', layout=Layout(width='100%'), max=19999, min=1), Out…"
      ]
     },
     "metadata": {},
     "output_type": "display_data"
    },
    {
     "data": {
      "text/plain": [
       "<function __main__.plot_acc_up_to(i)>"
      ]
     },
     "execution_count": 15,
     "metadata": {},
     "output_type": "execute_result"
    }
   ],
   "source": [
    "hide_code_in_slideshow()\n",
    "\n",
    "acc_cache, warn_cache, drift_cache = get_driftdetect_accuracy_overtime(20000)\n",
    "\n",
    "plt.ioff()\n",
    "fig = plt.figure()\n",
    "fig.canvas.toolbar_visible = False\n",
    "fig.canvas.header_visible = False \n",
    "fig.canvas.footer_visible = False\n",
    "line, = plt.plot([], [])\n",
    "lines_warn = []\n",
    "warn_periods = []\n",
    "l = None\n",
    "for i,w in enumerate(warn_cache):\n",
    "    if not w:\n",
    "        if l:\n",
    "            warn_periods.append(list(range(l, i)))\n",
    "            l = None\n",
    "    else:\n",
    "        if not l:\n",
    "            l = i\n",
    "if l:\n",
    "   warn_periods.append(list(range(l, len(warn_cache))))\n",
    "# for wp in warn_periods:\n",
    "#     wl, = plt.plot([], [])\n",
    "#     lines_warn.append(wl)\n",
    "lines_drift = []\n",
    "for i,d in enumerate(drift_cache):\n",
    "    if d:\n",
    "        dl = plt.axvline(x=i, ymin=0, ymax=1, c='red')\n",
    "        dl.set_visible(False)\n",
    "        lines_drift.append((dl, i))\n",
    "    \n",
    "plt.show()\n",
    "\n",
    "\n",
    "\n",
    "def plot_acc_up_to(i):\n",
    "    y = acc_cache[:i]\n",
    "    x = range(i)\n",
    "    for dl, di in lines_drift:\n",
    "        if i >= di:\n",
    "            dl.set_visible(True)\n",
    "        else:\n",
    "            dl.set_visible(False)\n",
    "    line.set_data(x, y)\n",
    "    fig.gca().relim()\n",
    "    fig.gca().autoscale_view()\n",
    "    fig.canvas.draw_idle()\n",
    "\n",
    "interact(plot_acc_up_to, i=IntSlider(min=1, max=19999, value=10, layout=widgets.Layout(width='100%')))\n",
    "\n"
   ]
  }
 ],
 "metadata": {
  "celltoolbar": "Slideshow",
  "kernelspec": {
   "display_name": "cs361",
   "language": "python",
   "name": "cs361"
  },
  "language_info": {
   "codemirror_mode": {
    "name": "ipython",
    "version": 3
   },
   "file_extension": ".py",
   "mimetype": "text/x-python",
   "name": "python",
   "nbconvert_exporter": "python",
   "pygments_lexer": "ipython3",
   "version": "3.7.6"
  },
  "rise": {
   "autolaunch": true
  }
 },
 "nbformat": 4,
 "nbformat_minor": 4
}
